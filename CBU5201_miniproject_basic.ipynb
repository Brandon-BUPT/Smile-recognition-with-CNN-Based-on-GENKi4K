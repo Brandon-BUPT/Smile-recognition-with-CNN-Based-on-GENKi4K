{
 "cells": [
  {
   "cell_type": "markdown",
   "metadata": {},
   "source": [
    "# 识别笑容"
   ]
  },
  {
   "cell_type": "markdown",
   "metadata": {},
   "source": [
    "## 图像预处理(crop the imgs)"
   ]
  },
  {
   "cell_type": "markdown",
   "metadata": {},
   "source": [
    "导入必要包"
   ]
  },
  {
   "cell_type": "code",
   "execution_count": 2,
   "metadata": {},
   "outputs": [],
   "source": [
    "import glob\n",
    "import numpy as np\n",
    "from PIL import Image\n",
    "import torch\n",
    "import os\n",
    "from torch import nn\n",
    "from torch.utils import data\n",
    "from torchvision import transforms"
   ]
  },
  {
   "cell_type": "markdown",
   "metadata": {},
   "source": [
    "导入数据类"
   ]
  },
  {
   "cell_type": "code",
   "execution_count": 3,
   "metadata": {},
   "outputs": [],
   "source": [
    "class Mydataset(data.Dataset):\n",
    "    def __init__(self, img_paths, labels, transform):\n",
    "        self.imgs = img_paths\n",
    "        self.labels = labels\n",
    "        self.transforms = transform\n",
    "\n",
    "    def __getitem__(self, item):\n",
    "        img = self.imgs[item]\n",
    "        label = self.labels[item]\n",
    "        pil_img = Image.open(img)\n",
    "        pil_img = pil_img.convert(\"RGB\")\n",
    "        data = self.transforms(pil_img)\n",
    "        return data, label\n",
    "\n",
    "    def __len__(self):\n",
    "        return len(self.imgs)"
   ]
  },
  {
   "cell_type": "markdown",
   "metadata": {},
   "source": [
    "基于VGG16模型，建立CNN类"
   ]
  },
  {
   "cell_type": "code",
   "execution_count": 4,
   "metadata": {},
   "outputs": [],
   "source": [
    "class Vgg16_net(nn.Module):\n",
    "    def __init__(self):\n",
    "        super(Vgg16_net, self).__init__()\n",
    "\n",
    "        self.layer1 = nn.Sequential(\n",
    "            nn.Conv2d(in_channels=3, out_channels=64, kernel_size=3, stride=1, padding=1),\n",
    "            nn.BatchNorm2d(64),\n",
    "            nn.ReLU(inplace=True),\n",
    "            nn.Conv2d(in_channels=64, out_channels=64, kernel_size=3, stride=1, padding=1),\n",
    "            nn.BatchNorm2d(64),\n",
    "            nn.ReLU(inplace=True),\n",
    "            nn.MaxPool2d(kernel_size=2, stride=2)\n",
    "        )\n",
    "\n",
    "        self.layer2 = nn.Sequential(\n",
    "            nn.Conv2d(in_channels=64, out_channels=128, kernel_size=3, stride=1, padding=1),\n",
    "            nn.BatchNorm2d(128),\n",
    "            nn.ReLU(inplace=True),\n",
    "            nn.Conv2d(in_channels=128, out_channels=128, kernel_size=3, stride=1, padding=1),\n",
    "            nn.BatchNorm2d(128),\n",
    "            nn.ReLU(inplace=True),\n",
    "            nn.MaxPool2d(2, 2)\n",
    "        )\n",
    "\n",
    "        self.layer3 = nn.Sequential(\n",
    "            nn.Conv2d(in_channels=128, out_channels=256, kernel_size=3, stride=1, padding=1),\n",
    "            nn.BatchNorm2d(256),\n",
    "            nn.ReLU(inplace=True),\n",
    "            nn.Conv2d(in_channels=256, out_channels=256, kernel_size=3, stride=1, padding=1),\n",
    "            nn.BatchNorm2d(256),\n",
    "            nn.ReLU(inplace=True),\n",
    "            nn.Conv2d(in_channels=256, out_channels=256, kernel_size=3, stride=1, padding=1),\n",
    "            nn.BatchNorm2d(256),\n",
    "            nn.ReLU(inplace=True),\n",
    "            nn.MaxPool2d(2, 2)\n",
    "        )\n",
    "\n",
    "        self.layer4 = nn.Sequential(\n",
    "            nn.Conv2d(in_channels=256, out_channels=512, kernel_size=3, stride=1, padding=1),\n",
    "            nn.BatchNorm2d(512),\n",
    "            nn.ReLU(inplace=True),\n",
    "            nn.Conv2d(in_channels=512, out_channels=512, kernel_size=3, stride=1, padding=1),\n",
    "            nn.BatchNorm2d(512),\n",
    "            nn.ReLU(inplace=True),\n",
    "            nn.Conv2d(in_channels=512, out_channels=512, kernel_size=3, stride=1, padding=1),\n",
    "            nn.BatchNorm2d(512),\n",
    "            nn.ReLU(inplace=True),\n",
    "            nn.MaxPool2d(2, 2)\n",
    "        )\n",
    "\n",
    "        self.layer5 = nn.Sequential(\n",
    "            nn.Conv2d(in_channels=512, out_channels=512, kernel_size=3, stride=1, padding=1),\n",
    "            nn.BatchNorm2d(512),\n",
    "            nn.ReLU(inplace=True),\n",
    "            nn.Conv2d(in_channels=512, out_channels=512, kernel_size=3, stride=1, padding=1),\n",
    "            nn.BatchNorm2d(512),\n",
    "            nn.ReLU(inplace=True),\n",
    "            nn.Conv2d(in_channels=512, out_channels=512, kernel_size=3, stride=1, padding=1),\n",
    "            nn.BatchNorm2d(512),\n",
    "            nn.ReLU(inplace=True),\n",
    "\n",
    "            nn.MaxPool2d(2, 2)\n",
    "        )\n",
    "\n",
    "        self.conv = nn.Sequential(\n",
    "            self.layer1,\n",
    "            self.layer2,\n",
    "            self.layer3,\n",
    "            self.layer4,\n",
    "            self.layer5\n",
    "        )\n",
    "\n",
    "        self.fc = nn.Sequential(\n",
    "            nn.Linear(512*4*4, 1024),\n",
    "            nn.ReLU(inplace=True),\n",
    "\n",
    "            nn.Linear(1024, 256),\n",
    "            nn.ReLU(inplace=True),\n",
    "\n",
    "            nn.Linear(256, 2)\n",
    "        )\n",
    "\n",
    "    def forward(self, x):\n",
    "        x = self.conv(x)\n",
    "        # print(x.size())\n",
    "        x = x.view(x.size(0), -1)\n",
    "        x = self.fc(x)\n",
    "        return x\n"
   ]
  },
  {
   "cell_type": "markdown",
   "metadata": {},
   "source": [
    "定义训练函数，并且在训练过程中可以查看训练进度"
   ]
  },
  {
   "cell_type": "code",
   "execution_count": 6,
   "metadata": {},
   "outputs": [],
   "source": [
    "from tqdm import tqdm\n",
    "\n",
    "def fit(epoch, model, loss_fn, optim, train_dl, test_dl):\n",
    "    model.train()\n",
    "    train_correct = 0\n",
    "    train_total = 0\n",
    "    train_losses = []\n",
    "    train_loader = tqdm(train_dl, desc=f'Epoch {epoch+1}/{epochs}', unit='batch')\n",
    "\n",
    "    for x, y in train_loader:\n",
    "        if torch.cuda.is_available():\n",
    "            x, y = x.to('cuda'), y.to('cuda')\n",
    "        optim.zero_grad()\n",
    "        y_pred = model(x)\n",
    "        loss = loss_fn(y_pred, y.long())\n",
    "        loss.backward()\n",
    "        optim.step()\n",
    "\n",
    "        train_losses.append(loss.item())\n",
    "        y_pred = torch.argmax(y_pred, dim=1)\n",
    "        train_correct += (y_pred == y).sum().item()\n",
    "        train_total += y.size(0)\n",
    "\n",
    "        # 更新进度条\n",
    "        train_loader.set_postfix(loss=np.mean(train_losses), acc=(train_correct / train_total))\n",
    "\n",
    "        \n",
    "\n",
    "    train_acc = train_correct / train_total\n",
    "\n",
    "    model.eval()\n",
    "    test_correct = 0\n",
    "    test_total = 0\n",
    "    with torch.no_grad():\n",
    "        for x, y in test_dl:\n",
    "            if torch.cuda.is_available():\n",
    "                x, y = x.to('cuda'), y.to('cuda')\n",
    "            y_pred = model(x)\n",
    "            y_pred = torch.argmax(y_pred, dim=1)\n",
    "            test_correct += (y_pred == y).sum().item()\n",
    "            test_total += y.size(0)\n",
    "    test_acc = test_correct / test_total\n",
    "    print('Epoch: ', epoch, 'Train Accuracy:', round(train_acc, 3), 'Test Accuracy:', round(test_acc, 3))\n",
    "    return test_acc"
   ]
  },
  {
   "cell_type": "markdown",
   "metadata": {},
   "source": [
    "划分数据集，按照70 15 15的比例"
   ]
  },
  {
   "cell_type": "code",
   "execution_count": 7,
   "metadata": {},
   "outputs": [],
   "source": [
    "def read_first_column(file_path):\n",
    "    with open(file_path, 'r') as file:\n",
    "        lines = file.readlines()\n",
    "        first_column = [int(line.strip().split(' ')[0]) for line in lines]\n",
    "    return first_column\n",
    "\n",
    "imagePaths = glob.glob(\"Data/genki4k/files/*.jpg\")\n",
    "labelPaths = read_first_column(\"Data/genki4k/labels.txt\")\n",
    "\n",
    "transform = transforms.Compose([\n",
    "    transforms.Resize((128, 128)),\n",
    "    transforms.ToTensor(),\n",
    "])\n",
    "index = np.random.permutation(len(imagePaths))\n",
    "all_imgs_path = np.array(imagePaths)[index]\n",
    "all_labels = np.array(labelPaths)[index]\n",
    "\n",
    "# 保存\n",
    "save_dir = 'save'\n",
    "os.makedirs(save_dir, exist_ok=True)\n",
    "\n",
    "# 定义训练集、验证集和测试集的大小\n",
    "train_size = int(len(all_imgs_path) * 0.7)\n",
    "val_size = int(len(all_imgs_path) * 0.15)\n",
    "\n",
    "# 划分训练集、验证集和测试集\n",
    "train_imgs = all_imgs_path[:train_size]\n",
    "train_labels = all_labels[:train_size]\n",
    "val_imgs = all_imgs_path[train_size:train_size+val_size]\n",
    "val_labels = all_labels[train_size:train_size+val_size]\n",
    "test_imgs = all_imgs_path[train_size+val_size:]\n",
    "test_labels = all_labels[train_size+val_size:]\n",
    "\n",
    "# 创建数据集\n",
    "train_ds = Mydataset(train_imgs, train_labels, transform)\n",
    "val_ds = Mydataset(val_imgs, val_labels, transform)\n",
    "test_ds = Mydataset(test_imgs, test_labels, transform)\n",
    "\n",
    "# 创建数据加载器\n",
    "train_dl = data.DataLoader(train_ds, batch_size=4, shuffle=True)\n",
    "val_dl = data.DataLoader(val_ds, batch_size=4, shuffle=False)\n",
    "test_dl = data.DataLoader(test_ds, batch_size=4, shuffle=False)\n"
   ]
  },
  {
   "cell_type": "code",
   "execution_count": 8,
   "metadata": {},
   "outputs": [
    {
     "name": "stdout",
     "output_type": "stream",
     "text": [
      "cuda:0\n"
     ]
    }
   ],
   "source": [
    "device = torch.device(\"cuda:0\" if torch.cuda.is_available() else \"cpu\")\n",
    "print(device)"
   ]
  },
  {
   "cell_type": "markdown",
   "metadata": {},
   "source": [
    "创建模型，并进行训练"
   ]
  },
  {
   "cell_type": "code",
   "execution_count": 9,
   "metadata": {},
   "outputs": [
    {
     "name": "stdout",
     "output_type": "stream",
     "text": [
      "\n"
     ]
    },
    {
     "name": "stderr",
     "output_type": "stream",
     "text": [
      "Epoch 1/30: 100%|██████████| 700/700 [00:14<00:00, 49.06batch/s, acc=0.529, loss=0.699]\n"
     ]
    },
    {
     "name": "stdout",
     "output_type": "stream",
     "text": [
      "Epoch:  0 Train Accuracy: 0.529 Test Accuracy: 0.537\n"
     ]
    },
    {
     "name": "stderr",
     "output_type": "stream",
     "text": [
      "Epoch 2/30: 100%|██████████| 700/700 [00:13<00:00, 53.57batch/s, acc=0.548, loss=0.689]\n"
     ]
    },
    {
     "name": "stdout",
     "output_type": "stream",
     "text": [
      "Epoch:  1 Train Accuracy: 0.548 Test Accuracy: 0.525\n"
     ]
    },
    {
     "name": "stderr",
     "output_type": "stream",
     "text": [
      "Epoch 3/30: 100%|██████████| 700/700 [00:13<00:00, 50.81batch/s, acc=0.534, loss=0.691]\n"
     ]
    },
    {
     "name": "stdout",
     "output_type": "stream",
     "text": [
      "Epoch:  2 Train Accuracy: 0.534 Test Accuracy: 0.548\n"
     ]
    },
    {
     "name": "stderr",
     "output_type": "stream",
     "text": [
      "Epoch 4/30: 100%|██████████| 700/700 [00:10<00:00, 65.66batch/s, acc=0.565, loss=0.683]\n"
     ]
    },
    {
     "name": "stdout",
     "output_type": "stream",
     "text": [
      "Epoch:  3 Train Accuracy: 0.565 Test Accuracy: 0.52\n"
     ]
    },
    {
     "name": "stderr",
     "output_type": "stream",
     "text": [
      "Epoch 5/30: 100%|██████████| 700/700 [00:13<00:00, 52.91batch/s, acc=0.564, loss=0.679]\n"
     ]
    },
    {
     "name": "stdout",
     "output_type": "stream",
     "text": [
      "Epoch:  4 Train Accuracy: 0.564 Test Accuracy: 0.575\n"
     ]
    },
    {
     "name": "stderr",
     "output_type": "stream",
     "text": [
      "Epoch 6/30: 100%|██████████| 700/700 [00:13<00:00, 51.60batch/s, acc=0.569, loss=0.678]\n"
     ]
    },
    {
     "name": "stdout",
     "output_type": "stream",
     "text": [
      "Epoch:  5 Train Accuracy: 0.569 Test Accuracy: 0.553\n"
     ]
    },
    {
     "name": "stderr",
     "output_type": "stream",
     "text": [
      "Epoch 7/30: 100%|██████████| 700/700 [00:12<00:00, 54.16batch/s, acc=0.575, loss=0.68] \n"
     ]
    },
    {
     "name": "stdout",
     "output_type": "stream",
     "text": [
      "Epoch:  6 Train Accuracy: 0.575 Test Accuracy: 0.597\n"
     ]
    },
    {
     "name": "stderr",
     "output_type": "stream",
     "text": [
      "Epoch 8/30: 100%|██████████| 700/700 [00:12<00:00, 55.34batch/s, acc=0.574, loss=0.675]\n"
     ]
    },
    {
     "name": "stdout",
     "output_type": "stream",
     "text": [
      "Epoch:  7 Train Accuracy: 0.574 Test Accuracy: 0.565\n"
     ]
    },
    {
     "name": "stderr",
     "output_type": "stream",
     "text": [
      "Epoch 9/30: 100%|██████████| 700/700 [00:13<00:00, 51.86batch/s, acc=0.599, loss=0.667]\n"
     ]
    },
    {
     "name": "stdout",
     "output_type": "stream",
     "text": [
      "Epoch:  8 Train Accuracy: 0.599 Test Accuracy: 0.595\n"
     ]
    },
    {
     "name": "stderr",
     "output_type": "stream",
     "text": [
      "Epoch 10/30: 100%|██████████| 700/700 [00:13<00:00, 52.71batch/s, acc=0.6, loss=0.668]  \n"
     ]
    },
    {
     "name": "stdout",
     "output_type": "stream",
     "text": [
      "Epoch:  9 Train Accuracy: 0.6 Test Accuracy: 0.617\n"
     ]
    },
    {
     "name": "stderr",
     "output_type": "stream",
     "text": [
      "Epoch 11/30: 100%|██████████| 700/700 [00:13<00:00, 51.33batch/s, acc=0.603, loss=0.658]\n"
     ]
    },
    {
     "name": "stdout",
     "output_type": "stream",
     "text": [
      "Epoch:  10 Train Accuracy: 0.603 Test Accuracy: 0.627\n"
     ]
    },
    {
     "name": "stderr",
     "output_type": "stream",
     "text": [
      "Epoch 12/30: 100%|██████████| 700/700 [00:13<00:00, 52.66batch/s, acc=0.654, loss=0.623]\n"
     ]
    },
    {
     "name": "stdout",
     "output_type": "stream",
     "text": [
      "Epoch:  11 Train Accuracy: 0.654 Test Accuracy: 0.662\n"
     ]
    },
    {
     "name": "stderr",
     "output_type": "stream",
     "text": [
      "Epoch 13/30: 100%|██████████| 700/700 [00:13<00:00, 51.06batch/s, acc=0.768, loss=0.499]\n"
     ]
    },
    {
     "name": "stdout",
     "output_type": "stream",
     "text": [
      "Epoch:  12 Train Accuracy: 0.768 Test Accuracy: 0.763\n"
     ]
    },
    {
     "name": "stderr",
     "output_type": "stream",
     "text": [
      "Epoch 14/30: 100%|██████████| 700/700 [00:13<00:00, 52.45batch/s, acc=0.807, loss=0.439]\n"
     ]
    },
    {
     "name": "stdout",
     "output_type": "stream",
     "text": [
      "Epoch:  13 Train Accuracy: 0.807 Test Accuracy: 0.802\n"
     ]
    },
    {
     "name": "stderr",
     "output_type": "stream",
     "text": [
      "Epoch 15/30: 100%|██████████| 700/700 [00:13<00:00, 52.00batch/s, acc=0.829, loss=0.4]  \n"
     ]
    },
    {
     "name": "stdout",
     "output_type": "stream",
     "text": [
      "Epoch:  14 Train Accuracy: 0.829 Test Accuracy: 0.805\n"
     ]
    },
    {
     "name": "stderr",
     "output_type": "stream",
     "text": [
      "Epoch 16/30: 100%|██████████| 700/700 [00:13<00:00, 51.95batch/s, acc=0.846, loss=0.37] \n"
     ]
    },
    {
     "name": "stdout",
     "output_type": "stream",
     "text": [
      "Epoch:  15 Train Accuracy: 0.846 Test Accuracy: 0.823\n"
     ]
    },
    {
     "name": "stderr",
     "output_type": "stream",
     "text": [
      "Epoch 17/30: 100%|██████████| 700/700 [00:12<00:00, 58.28batch/s, acc=0.852, loss=0.339]\n"
     ]
    },
    {
     "name": "stdout",
     "output_type": "stream",
     "text": [
      "Epoch:  16 Train Accuracy: 0.852 Test Accuracy: 0.83\n"
     ]
    },
    {
     "name": "stderr",
     "output_type": "stream",
     "text": [
      "Epoch 18/30: 100%|██████████| 700/700 [00:10<00:00, 64.38batch/s, acc=0.877, loss=0.306]\n"
     ]
    },
    {
     "name": "stdout",
     "output_type": "stream",
     "text": [
      "Epoch:  17 Train Accuracy: 0.877 Test Accuracy: 0.843\n"
     ]
    },
    {
     "name": "stderr",
     "output_type": "stream",
     "text": [
      "Epoch 19/30: 100%|██████████| 700/700 [00:13<00:00, 53.81batch/s, acc=0.885, loss=0.285]\n"
     ]
    },
    {
     "name": "stdout",
     "output_type": "stream",
     "text": [
      "Epoch:  18 Train Accuracy: 0.885 Test Accuracy: 0.833\n"
     ]
    },
    {
     "name": "stderr",
     "output_type": "stream",
     "text": [
      "Epoch 20/30: 100%|██████████| 700/700 [00:13<00:00, 53.54batch/s, acc=0.893, loss=0.271]\n"
     ]
    },
    {
     "name": "stdout",
     "output_type": "stream",
     "text": [
      "Epoch:  19 Train Accuracy: 0.893 Test Accuracy: 0.847\n"
     ]
    },
    {
     "name": "stderr",
     "output_type": "stream",
     "text": [
      "Epoch 21/30: 100%|██████████| 700/700 [00:13<00:00, 50.39batch/s, acc=0.901, loss=0.247]\n"
     ]
    },
    {
     "name": "stdout",
     "output_type": "stream",
     "text": [
      "Epoch:  20 Train Accuracy: 0.901 Test Accuracy: 0.845\n"
     ]
    },
    {
     "name": "stderr",
     "output_type": "stream",
     "text": [
      "Epoch 22/30: 100%|██████████| 700/700 [00:14<00:00, 48.12batch/s, acc=0.912, loss=0.234]\n"
     ]
    },
    {
     "name": "stdout",
     "output_type": "stream",
     "text": [
      "Epoch:  21 Train Accuracy: 0.912 Test Accuracy: 0.858\n"
     ]
    },
    {
     "name": "stderr",
     "output_type": "stream",
     "text": [
      "Epoch 23/30: 100%|██████████| 700/700 [00:13<00:00, 50.71batch/s, acc=0.912, loss=0.223]\n"
     ]
    },
    {
     "name": "stdout",
     "output_type": "stream",
     "text": [
      "Epoch:  22 Train Accuracy: 0.912 Test Accuracy: 0.852\n"
     ]
    },
    {
     "name": "stderr",
     "output_type": "stream",
     "text": [
      "Epoch 24/30: 100%|██████████| 700/700 [00:14<00:00, 49.94batch/s, acc=0.924, loss=0.205]\n"
     ]
    },
    {
     "name": "stdout",
     "output_type": "stream",
     "text": [
      "Epoch:  23 Train Accuracy: 0.924 Test Accuracy: 0.845\n"
     ]
    },
    {
     "name": "stderr",
     "output_type": "stream",
     "text": [
      "Epoch 25/30: 100%|██████████| 700/700 [00:13<00:00, 50.56batch/s, acc=0.929, loss=0.185]\n"
     ]
    },
    {
     "name": "stdout",
     "output_type": "stream",
     "text": [
      "Epoch:  24 Train Accuracy: 0.929 Test Accuracy: 0.86\n"
     ]
    },
    {
     "name": "stderr",
     "output_type": "stream",
     "text": [
      "Epoch 26/30: 100%|██████████| 700/700 [00:14<00:00, 48.95batch/s, acc=0.931, loss=0.176]\n"
     ]
    },
    {
     "name": "stdout",
     "output_type": "stream",
     "text": [
      "Epoch:  25 Train Accuracy: 0.931 Test Accuracy: 0.858\n"
     ]
    },
    {
     "name": "stderr",
     "output_type": "stream",
     "text": [
      "Epoch 27/30: 100%|██████████| 700/700 [00:14<00:00, 49.05batch/s, acc=0.94, loss=0.156] \n"
     ]
    },
    {
     "name": "stdout",
     "output_type": "stream",
     "text": [
      "Epoch:  26 Train Accuracy: 0.94 Test Accuracy: 0.86\n"
     ]
    },
    {
     "name": "stderr",
     "output_type": "stream",
     "text": [
      "Epoch 28/30: 100%|██████████| 700/700 [00:14<00:00, 48.57batch/s, acc=0.946, loss=0.147]\n"
     ]
    },
    {
     "name": "stdout",
     "output_type": "stream",
     "text": [
      "Epoch:  27 Train Accuracy: 0.946 Test Accuracy: 0.865\n"
     ]
    },
    {
     "name": "stderr",
     "output_type": "stream",
     "text": [
      "Epoch 29/30: 100%|██████████| 700/700 [00:14<00:00, 48.48batch/s, acc=0.956, loss=0.129] \n"
     ]
    },
    {
     "name": "stdout",
     "output_type": "stream",
     "text": [
      "Epoch:  28 Train Accuracy: 0.956 Test Accuracy: 0.867\n"
     ]
    },
    {
     "name": "stderr",
     "output_type": "stream",
     "text": [
      "Epoch 30/30: 100%|██████████| 700/700 [00:13<00:00, 50.49batch/s, acc=0.955, loss=0.121] \n"
     ]
    },
    {
     "name": "stdout",
     "output_type": "stream",
     "text": [
      "Epoch:  29 Train Accuracy: 0.955 Test Accuracy: 0.863\n",
      "Best model saved to save/Task1/model_best_accuracy.pth\n",
      "Last epoch model saved to save/Task1/model_last_epoch.pth\n",
      "Finish Training!\n"
     ]
    }
   ],
   "source": [
    "model = Vgg16_net()\n",
    "\n",
    "model.to(device) # 移动模型到cuda\n",
    "print()\n",
    "if torch.cuda.is_available():\n",
    "    model.to('cuda')\n",
    "loss_fn = nn.CrossEntropyLoss()\n",
    "optim = torch.optim.Adam(model.parameters(), lr=0.0001)\n",
    "epochs = 30\n",
    "\n",
    "best_accuracy = 0.0\n",
    "save_dir = 'save/Task1'\n",
    "os.makedirs(save_dir, exist_ok=True)\n",
    "\n",
    "for epoch in range(epochs):\n",
    "    test_acc = fit(epoch, model, loss_fn, optim, train_dl, val_dl)\n",
    "    if test_acc > best_accuracy:\n",
    "        best_accuracy = test_acc\n",
    "        best_model_path = os.path.join(save_dir, 'model_best_accuracy.pth')\n",
    "        torch.save(model.state_dict(), best_model_path)\n",
    "\n",
    "    # 保存最后一个 epoch 的模型\n",
    "    last_model_path = os.path.join(save_dir, 'model_last_epoch.pth')\n",
    "    torch.save(model.state_dict(), last_model_path)\n",
    "\n",
    "print(f\"Best model saved to {best_model_path}\")\n",
    "print(f\"Last epoch model saved to {last_model_path}\")\n",
    "print(\"Finish Training!\")"
   ]
  },
  {
   "cell_type": "markdown",
   "metadata": {},
   "source": [
    "测试并可视化"
   ]
  },
  {
   "cell_type": "code",
   "execution_count": 13,
   "metadata": {},
   "outputs": [
    {
     "name": "stdout",
     "output_type": "stream",
     "text": [
      "Test Accuracy: 97.67%\n"
     ]
    }
   ],
   "source": [
    "def test_model(model, test_dl):\n",
    "    correct = 0\n",
    "    total = 0\n",
    "    model.eval()\n",
    "    with torch.no_grad():\n",
    "        for x, y in test_dl:\n",
    "            if torch.cuda.is_available():\n",
    "                x, y = x.to('cuda'), y.to('cuda')\n",
    "            y_pred = model(x)\n",
    "            y_pred = torch.argmax(y_pred, dim=1)\n",
    "            correct += (y_pred == y).sum().item()\n",
    "            total += y.size(0)\n",
    "    acc = correct / total\n",
    "    print(f'Test Accuracy: {acc * 100:.2f}%')\n",
    "model.load_state_dict(torch.load('save/model_epoch_9.pth'))\n",
    "test_model(model, test_dl)"
   ]
  },
  {
   "cell_type": "code",
   "execution_count": 15,
   "metadata": {},
   "outputs": [
    {
     "name": "stdout",
     "output_type": "stream",
     "text": [
      "Test Accuracy: 97.67%\n"
     ]
    },
    {
     "data": {
      "image/png": "[encoded data removed]",
      "text/plain": [
       "<Figure size 1000x700 with 2 Axes>"
      ]
     },
     "metadata": {},
     "output_type": "display_data"
    }
   ],
   "source": [
    "import torch\n",
    "from sklearn.metrics import confusion_matrix\n",
    "import matplotlib.pyplot as plt\n",
    "import seaborn as sns\n",
    "\n",
    "def test_model(model, test_dl):\n",
    "    all_preds = []\n",
    "    all_labels = []\n",
    "    correct = 0\n",
    "    total = 0\n",
    "    model.eval()\n",
    "    with torch.no_grad():\n",
    "        for x, y in test_dl:\n",
    "            if torch.cuda.is_available():\n",
    "                x, y = x.to('cuda'), y.to('cuda')\n",
    "            y_pred = model(x)\n",
    "            predictions = torch.argmax(y_pred, dim=1)\n",
    "            correct += (predictions == y).sum().item()\n",
    "            total += y.size(0)\n",
    "            all_preds.extend(predictions.cpu().numpy())\n",
    "            all_labels.extend(y.cpu().numpy())\n",
    "    acc = correct / total\n",
    "    return all_labels, all_preds, acc\n",
    "\n",
    "# 加载模型并在测试集上进行测试\n",
    "model.load_state_dict(torch.load('save/model_epoch_9.pth'))\n",
    "all_labels, all_preds, acc = test_model(model, test_dl)\n",
    "\n",
    "# 输出准确度\n",
    "print(f'Test Accuracy: {acc * 100:.2f}%')\n",
    "\n",
    "# 生成混淆矩阵\n",
    "conf_matrix = confusion_matrix(all_labels, all_preds)\n",
    "\n",
    "# 可视化混淆矩阵\n",
    "plt.figure(figsize=(10,7))\n",
    "sns.heatmap(conf_matrix, annot=True, fmt='g', cmap='Blues')\n",
    "plt.xlabel('Predicted')\n",
    "plt.ylabel('True')\n",
    "plt.show()\n"
   ]
  }
 ],
 "metadata": {
  "kernelspec": {
   "display_name": "base",
   "language": "python",
   "name": "python3"
  },
  "language_info": {
   "codemirror_mode": {
    "name": "ipython",
    "version": 3
   },
   "file_extension": ".py",
   "mimetype": "text/x-python",
   "name": "python",
   "nbconvert_exporter": "python",
   "pygments_lexer": "ipython3",
   "version": "3.8.10"
  }
 },
 "nbformat": 4,
 "nbformat_minor": 2
}
